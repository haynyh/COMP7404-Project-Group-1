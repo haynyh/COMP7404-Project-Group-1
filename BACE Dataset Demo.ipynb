{
 "cells": [
  {
   "cell_type": "code",
   "execution_count": null,
   "id": "5fdb82f0",
   "metadata": {},
   "outputs": [],
   "source": [
    "#Read Bace Data folder\n",
    "\n",
    "import datetime\n",
    "import os\n",
    "\n",
    "dir_path = './data/bace_split/'\n",
    "\n",
    "# Get a list of all files and subdirectories in the directory\n",
    "contents = os.listdir(dir_path)\n",
    "\n",
    "# Print the contents of the directory\n",
    "for item in contents:\n",
    "    print(item)"
   ]
  },
  {
   "cell_type": "code",
   "execution_count": null,
   "id": "dda2a5ff",
   "metadata": {
    "scrolled": true
   },
   "outputs": [],
   "source": [
    "#Look into the test.fgp2048.csv\n",
    "\n",
    "import pandas as pd\n",
    "\n",
    "# Load the CSV file into a pandas DataFrame\n",
    "df = pd.read_csv('./data/bace_split/train.fgp2048.csv')\n",
    "\n",
    "# Display the contents of the DataFrame\n",
    "display(df)\n",
    "\n",
    "#Print number of dimension in each input_data\n",
    "print(\"Dimension = \" + str(len(df.iloc[0, 0])) + \"x1\")"
   ]
  },
  {
   "cell_type": "code",
   "execution_count": null,
   "id": "428fccec",
   "metadata": {},
   "outputs": [],
   "source": [
    "#run LCN, bace_aplit\n",
    "\n",
    "#parameter setting\n",
    "DATA = \"bace_split/\"\n",
    "BACK_N = 0 #the depth of the backward network\n",
    "P=0.75 #drop rate\n",
    "DROP=\"node_dropconnect\"\n",
    "DEPTH=12 #depth of the network\n",
    "#--net_type locally_constant\n",
    "\n",
    "start_time = datetime.datetime.now()\n",
    "\n",
    "\n",
    "for SEED in range(1, 3):\n",
    "    command = f\"python run_net_training.py --dataset {DATA} --seed {SEED} --depth {DEPTH} --back_n {BACK_N} --drop_type {DROP} --p {P} --net_type locally_constant --epochs 30 --lr 0.1 --lr_step_size 10 --gamma 0.1 --batch-size 64\"\n",
    "    print(command)\n",
    "    !python run_net_training.py --dataset {DATA} --seed {SEED} --depth {DEPTH} --back_n {BACK_N} --drop_type {DROP} --p {P} --net_type locally_constant --epochs 30 --lr 0.1 --lr_step_size 10 --gamma 0.1 --batch-size 64\n",
    "    print()\n",
    "\n",
    "end_time = datetime.datetime.now()\n",
    "\n",
    "print(start_time)\n",
    "print(end_time)"
   ]
  },
  {
   "cell_type": "code",
   "execution_count": null,
   "id": "7a1fe4c2",
   "metadata": {},
   "outputs": [],
   "source": [
    "#study the log file, read for best seed and checkpoint\n",
    "\n",
    "print(\"Performance: training, validation, and testing\")\n",
    "with open('./log/bace_split/locally_constant/depth12_backn0_dropnode_dropconnect_p0.75_best.log', 'r') as f:\n",
    "    lines = f.readlines()\n",
    "    for line in lines:\n",
    "        # do something with each line\n",
    "        print(line)"
   ]
  },
  {
   "cell_type": "code",
   "execution_count": null,
   "id": "48b7b3ca",
   "metadata": {},
   "outputs": [],
   "source": [
    "#Look into the bace_split/pred.fgp2048.csv\n",
    "\n",
    "# Load the CSV file into a pandas DataFrame\n",
    "df = pd.read_csv('./prediction/bace_split/pred.fgp2048.csv')\n",
    "\n",
    "# Display the contents of the DataFrame\n",
    "display(df)\n",
    "\n",
    "#Print number of dimension in each input_data\n",
    "print(\"Dimension = \" + str(len(df.iloc[0, 0])) + \"x1\")"
   ]
  },
  {
   "cell_type": "code",
   "execution_count": null,
   "id": "4a3c3ed0",
   "metadata": {
    "scrolled": true
   },
   "outputs": [],
   "source": [
    "#Using the trained weights at seed=2 to classify new dataset\n",
    "DATA = \"bace_split/\"\n",
    "BACK_N = 0 #the depth of the backward network\n",
    "P = 0.75 #drop rate\n",
    "DROP = \"node_dropconnect\"\n",
    "DEPTH = 12 #depth of the network\n",
    "SEED = 2 #***Choosen seed\n",
    "#--net_type locally_constant\n",
    "\n",
    "#Same set of parameter as the training\n",
    "!python run_net_pred.py --dataset {DATA} --seed {SEED} --depth {DEPTH} --back_n {BACK_N} --drop_type {DROP} --p {P} --net_type locally_constant --epochs 30 --lr 0.1 --lr_step_size 10 --gamma 0.1 --batch-size 64"
   ]
  },
  {
   "cell_type": "code",
   "execution_count": null,
   "id": "746df0fb",
   "metadata": {},
   "outputs": [],
   "source": []
  }
 ],
 "metadata": {
  "kernelspec": {
   "display_name": "Python 3 (ipykernel)",
   "language": "python",
   "name": "python3"
  },
  "language_info": {
   "codemirror_mode": {
    "name": "ipython",
    "version": 3
   },
   "file_extension": ".py",
   "mimetype": "text/x-python",
   "name": "python",
   "nbconvert_exporter": "python",
   "pygments_lexer": "ipython3",
   "version": "3.9.7"
  }
 },
 "nbformat": 4,
 "nbformat_minor": 5
}
